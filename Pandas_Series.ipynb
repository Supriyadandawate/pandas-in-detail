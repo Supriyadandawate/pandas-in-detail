{
  "nbformat": 4,
  "nbformat_minor": 0,
  "metadata": {
    "colab": {
      "provenance": [],
      "authorship_tag": "ABX9TyNXDRAgnnJmC0xH3QiL1362",
      "include_colab_link": true
    },
    "kernelspec": {
      "name": "python3",
      "display_name": "Python 3"
    },
    "language_info": {
      "name": "python"
    }
  },
  "cells": [
    {
      "cell_type": "markdown",
      "metadata": {
        "id": "view-in-github",
        "colab_type": "text"
      },
      "source": [
        "<a href=\"https://colab.research.google.com/github/Supriyadandawate/pandas-in-detail/blob/main/Pandas_Series.ipynb\" target=\"_parent\"><img src=\"https://colab.research.google.com/assets/colab-badge.svg\" alt=\"Open In Colab\"/></a>"
      ]
    },
    {
      "cell_type": "markdown",
      "source": [
        "**1.Series**"
      ],
      "metadata": {
        "id": "yOUmQFgihqqz"
      }
    },
    {
      "cell_type": "code",
      "execution_count": 1,
      "metadata": {
        "colab": {
          "base_uri": "https://localhost:8080/"
        },
        "id": "mfTpHB8Lg9fm",
        "outputId": "08f9dcb4-a97b-4526-87a1-05248a88aa90"
      },
      "outputs": [
        {
          "output_type": "stream",
          "name": "stdout",
          "text": [
            "0    10\n",
            "1    20\n",
            "2    30\n",
            "3    40\n",
            "4    50\n",
            "dtype: int64\n"
          ]
        }
      ],
      "source": [
        "import pandas as pd\n",
        "data = [10, 20, 30, 40, 50]\n",
        "series = pd.Series(data)\n",
        "print(series)"
      ]
    },
    {
      "cell_type": "markdown",
      "source": [
        "#Monthly Sales Data\n"
      ],
      "metadata": {
        "id": "4kqRXyxbh0TG"
      }
    },
    {
      "cell_type": "code",
      "source": [
        "import pandas as pd\n",
        "# Months in a year\n",
        "months = ['January', 'February', 'March', 'April', 'May', 'June', 'July', 'August', 'September',\n",
        "'October', 'November', 'December']\n",
        "# Monthly sales data for a product (example data)\n",
        "sales_data = [12000, 13500, 14200, 12800, 14000, 15500, 16200, 15800, 16500,\n",
        "17800, 18500, 17200]\n",
        "# Create a Pandas Series with months as the index\n",
        "sales_series = pd.Series(sales_data, index=months, name='Monthly Sales (USD)')\n",
        "# Display the Series\n",
        "print(sales_series)"
      ],
      "metadata": {
        "colab": {
          "base_uri": "https://localhost:8080/"
        },
        "id": "6ljg8ho0h23m",
        "outputId": "351e7a52-ea8a-4074-f9da-e6eb48ddfb57"
      },
      "execution_count": 2,
      "outputs": [
        {
          "output_type": "stream",
          "name": "stdout",
          "text": [
            "January      12000\n",
            "February     13500\n",
            "March        14200\n",
            "April        12800\n",
            "May          14000\n",
            "June         15500\n",
            "July         16200\n",
            "August       15800\n",
            "September    16500\n",
            "October      17800\n",
            "November     18500\n",
            "December     17200\n",
            "Name: Monthly Sales (USD), dtype: int64\n"
          ]
        }
      ]
    }
  ]
}
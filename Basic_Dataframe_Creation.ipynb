{
  "nbformat": 4,
  "nbformat_minor": 0,
  "metadata": {
    "colab": {
      "provenance": [],
      "authorship_tag": "ABX9TyPMmenzRauT4JOeNPW+MyXL",
      "include_colab_link": true
    },
    "kernelspec": {
      "name": "python3",
      "display_name": "Python 3"
    },
    "language_info": {
      "name": "python"
    }
  },
  "cells": [
    {
      "cell_type": "markdown",
      "metadata": {
        "id": "view-in-github",
        "colab_type": "text"
      },
      "source": [
        "<a href=\"https://colab.research.google.com/github/Supriyadandawate/pandas-in-detail/blob/main/Basic_Dataframe_Creation.ipynb\" target=\"_parent\"><img src=\"https://colab.research.google.com/assets/colab-badge.svg\" alt=\"Open In Colab\"/></a>"
      ]
    },
    {
      "cell_type": "markdown",
      "source": [
        "# BASIC PANDAS"
      ],
      "metadata": {
        "id": "sL4657l1Hu-2"
      }
    },
    {
      "cell_type": "markdown",
      "source": [
        "#Basic DataFrame Creation"
      ],
      "metadata": {
        "id": "X19wUaNdH3mM"
      }
    },
    {
      "cell_type": "code",
      "execution_count": null,
      "metadata": {
        "colab": {
          "base_uri": "https://localhost:8080/"
        },
        "id": "t1iTbQd3Hhd-",
        "outputId": "33ffc23c-850a-48c9-bfa5-7d44195ebc91"
      },
      "outputs": [
        {
          "output_type": "stream",
          "name": "stdout",
          "text": [
            "DataFrame of Dictionary\n",
            "        Name  Age Addresss\n",
            "0    Supriya   23  palghar\n",
            "1  sharvaree   33    Delhi\n",
            "2    Jytosna   44   Gujrat\n",
            "3      Sonal   63   Nagpur\n"
          ]
        }
      ],
      "source": [
        "#Create a DataFrame from a Dictionary\n",
        "import pandas as pd\n",
        "data = {\n",
        "     \"Name\" :[\"Supriya\", \"sharvaree\", \"Jytosna\", \"Sonal\"],\n",
        "     \"Age\" :[23,33,44,63],\n",
        "     \"Addresss\" :[\"palghar\", \"Delhi\", \"Gujrat\", \"Nagpur\"]\n",
        "}\n",
        "dataframe = pd.DataFrame(data)\n",
        "print(\"DataFrame of Dictionary\")\n",
        "print(dataframe)"
      ]
    },
    {
      "cell_type": "code",
      "source": [
        "# create a DataFrame from list\n",
        "import pandas as pd\n",
        "list_of_data =[\n",
        "    [\"supriya\",23,\"ulhasnagar\"],\n",
        "    [\"Akash\",28,\"Kolhapur\"],\n",
        "    [\"Manswi\",26,\"amahadnagar\"],\n",
        "    [\"priya\",20,\"Sangli\"]\n",
        "]\n",
        "\n",
        "df_of_list = pd.DataFrame(list_of_data,columns =[\"Name\",\"Age\", \"Address\"])\n",
        "print(\"DataFrame of list\")\n",
        "print(df_of_list)\n"
      ],
      "metadata": {
        "colab": {
          "base_uri": "https://localhost:8080/"
        },
        "id": "ajeYzrqSJT5R",
        "outputId": "da4cc4b0-f179-4259-f910-ad4eab1eafc8"
      },
      "execution_count": null,
      "outputs": [
        {
          "output_type": "stream",
          "name": "stdout",
          "text": [
            "DataFrame of list\n",
            "      Name  Age      Address\n",
            "0  supriya   23   ulhasnagar\n",
            "1    Akash   28     Kolhapur\n",
            "2   Manswi   26  amahadnagar\n",
            "3    priya   20       Sangli\n"
          ]
        }
      ]
    },
    {
      "cell_type": "code",
      "source": [
        "# create a Dataframe from csv file\n",
        "import pandas as pd\n",
        "csv_file = pd.read_csv(\"/content/name_age_address.csv\")\n",
        "print(csv_file)"
      ],
      "metadata": {
        "colab": {
          "base_uri": "https://localhost:8080/"
        },
        "id": "KMg8ZixTL0bG",
        "outputId": "50fc05d0-dfe4-47cd-d0b9-e449f1c5846b"
      },
      "execution_count": null,
      "outputs": [
        {
          "output_type": "stream",
          "name": "stdout",
          "text": [
            "            Name  Age                           Address\n",
            "0  Alice Johnson   25     123 Maple Street, Springfield\n",
            "1      Bob Smith   30       456 Oak Avenue, Shelbyville\n",
            "2  Charlie Brown   35       789 Pine Road, Capital City\n",
            "3     Diana Ross   28        321 Elm Street, Ogdenville\n",
            "4     Ethan Hunt   40  654 Birch Lane, North Haverbrook\n"
          ]
        }
      ]
    },
    {
      "cell_type": "code",
      "source": [],
      "metadata": {
        "id": "Xbn5X6vXMtAK"
      },
      "execution_count": null,
      "outputs": []
    }
  ]
}
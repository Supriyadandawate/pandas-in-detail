{
  "nbformat": 4,
  "nbformat_minor": 0,
  "metadata": {
    "colab": {
      "provenance": [],
      "authorship_tag": "ABX9TyNLR+NSwv3d15l8cQYUvO6w",
      "include_colab_link": true
    },
    "kernelspec": {
      "name": "python3",
      "display_name": "Python 3"
    },
    "language_info": {
      "name": "python"
    }
  },
  "cells": [
    {
      "cell_type": "markdown",
      "metadata": {
        "id": "view-in-github",
        "colab_type": "text"
      },
      "source": [
        "<a href=\"https://colab.research.google.com/github/Supriyadandawate/pandas-in-detail/blob/main/DataFrames.ipynb\" target=\"_parent\"><img src=\"https://colab.research.google.com/assets/colab-badge.svg\" alt=\"Open In Colab\"/></a>"
      ]
    },
    {
      "cell_type": "markdown",
      "source": [
        "# 1.Indian Festival Dates\n"
      ],
      "metadata": {
        "id": "lD8_BvXyvqgz"
      }
    },
    {
      "cell_type": "code",
      "source": [
        "import pandas as pd"
      ],
      "metadata": {
        "id": "YxlXxF-Pv-Ml"
      },
      "execution_count": 2,
      "outputs": []
    },
    {
      "cell_type": "code",
      "execution_count": 3,
      "metadata": {
        "colab": {
          "base_uri": "https://localhost:8080/"
        },
        "id": "e2V4lOq1vaOf",
        "outputId": "c7956d70-4a92-4979-b9db-fe166508400e"
      },
      "outputs": [
        {
          "output_type": "stream",
          "name": "stdout",
          "text": [
            "     Festival        Date       Type\n",
            "0      Diwali  2024-11-12  Religious\n",
            "1        Holi  2024-03-20   Cultural\n",
            "2  Durga Puja  2024-10-10  Religious\n",
            "3         Eid  2024-04-10  Religious\n",
            "4   Christmas  2024-12-25   Cultural\n"
          ]
        }
      ],
      "source": [
        "data = {\n",
        "    'Festival': ['Diwali', 'Holi', 'Durga Puja', 'Eid', 'Christmas'],\n",
        "    'Date': ['2024-11-12', '2024-03-20', '2024-10-10', '2024-04-10', '2024-12-25'],\n",
        "    'Type': ['Religious', 'Cultural', 'Religious', 'Religious', 'Cultural']\n",
        "}\n",
        "\n",
        "# Create a DataFrame\n",
        "df_festivals = pd.DataFrame(data)\n",
        "\n",
        "print(df_festivals)\n"
      ]
    },
    {
      "cell_type": "markdown",
      "source": [
        "# 2.Indian Cities and Their States"
      ],
      "metadata": {
        "id": "2FWyt8c7vxXp"
      }
    },
    {
      "cell_type": "code",
      "source": [
        "import pandas as pd\n",
        "\n",
        "# Data for Indian cities and states\n",
        "data = {\n",
        "    'City': ['Mumbai', 'Delhi', 'Bengaluru', 'Chennai', 'Kolkata'],\n",
        "    'State': ['Maharashtra', 'Delhi', 'Karnataka', 'Tamil Nadu', 'West Bengal'],\n",
        "    'Population (in millions)': [20.4, 19.0, 12.4, 7.1, 4.5]\n",
        "}\n",
        "\n",
        "# Create a DataFrame\n",
        "df_cities = pd.DataFrame(data)\n",
        "\n",
        "print(df_cities)\n"
      ],
      "metadata": {
        "colab": {
          "base_uri": "https://localhost:8080/"
        },
        "id": "Ex7TUv8swMCV",
        "outputId": "260a0ffd-1524-48ea-fdc5-dbc43f8e5a94"
      },
      "execution_count": 4,
      "outputs": [
        {
          "output_type": "stream",
          "name": "stdout",
          "text": [
            "        City        State  Population (in millions)\n",
            "0     Mumbai  Maharashtra                      20.4\n",
            "1      Delhi        Delhi                      19.0\n",
            "2  Bengaluru    Karnataka                      12.4\n",
            "3    Chennai   Tamil Nadu                       7.1\n",
            "4    Kolkata  West Bengal                       4.5\n"
          ]
        }
      ]
    },
    {
      "cell_type": "markdown",
      "source": [
        "#3. Indian Cricket Players and Their Stats"
      ],
      "metadata": {
        "id": "UfbFHOCQw5Xv"
      }
    },
    {
      "cell_type": "code",
      "source": [
        "data = {\n",
        "    'Player': ['Virat Kohli', 'Sachin Tendulkar', 'MS Dhoni', 'Rohit Sharma', 'Shikhar Dhawan'],\n",
        "    'Matches': [254, 200, 350, 227, 148],\n",
        "    'Runs Scored': [12169, 18426, 10773, 9200, 5500],\n",
        "    'Centuries': [43, 49, 10, 28, 17]\n",
        "}\n",
        "\n",
        "# Create a DataFrame\n",
        "df_cricket = pd.DataFrame(data)\n",
        "\n",
        "print(df_cricket)\n"
      ],
      "metadata": {
        "colab": {
          "base_uri": "https://localhost:8080/"
        },
        "id": "Ad2r2WQjw6tx",
        "outputId": "f4a5e806-327c-4660-f9fc-2098f7db77c6"
      },
      "execution_count": 5,
      "outputs": [
        {
          "output_type": "stream",
          "name": "stdout",
          "text": [
            "             Player  Matches  Runs Scored  Centuries\n",
            "0       Virat Kohli      254        12169         43\n",
            "1  Sachin Tendulkar      200        18426         49\n",
            "2          MS Dhoni      350        10773         10\n",
            "3      Rohit Sharma      227         9200         28\n",
            "4    Shikhar Dhawan      148         5500         17\n"
          ]
        }
      ]
    }
  ]
}